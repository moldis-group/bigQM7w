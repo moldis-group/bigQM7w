{
 "cells": [
  {
   "cell_type": "markdown",
   "metadata": {},
   "source": [
    "Importing relevant functionalities"
   ]
  },
  {
   "cell_type": "code",
   "execution_count": 1,
   "metadata": {},
   "outputs": [],
   "source": [
    "import re\n",
    "import numpy as np\n",
    "import scipy as sc\n",
    "import matplotlib.pyplot as plt\n",
    "import pandas as pd\n",
    "from pandas import DataFrame as df\n",
    "from sklearn.metrics import r2_score"
   ]
  },
  {
   "cell_type": "markdown",
   "metadata": {},
   "source": [
    "Preparing csv files"
   ]
  },
  {
   "cell_type": "code",
   "execution_count": 8,
   "metadata": {},
   "outputs": [
    {
     "name": "stdout",
     "output_type": "stream",
     "text": [
      " Excited State   1:      Singlet-A      6.7536 eV  183.58 nm  f=0.0000  <S**2>=0.000\n",
      "\n",
      " Excited State   2:      Singlet-A      6.9327 eV  178.84 nm  f=0.0011  <S**2>=0.000\n",
      "\n",
      "('../33_benchmark/b3lyp/000030.log', 6.7536, '0.0000', 6.9327, '0.0011')\n",
      " Excited State   1:      Singlet-A'     7.9031 eV  156.88 nm  f=0.0010  <S**2>=0.000\n",
      "\n",
      " Excited State   2:      Singlet-A'     7.9033 eV  156.88 nm  f=0.0010  <S**2>=0.000\n",
      "\n",
      "('../33_benchmark/b3lyp/000031.log', 7.9031, '0.0010', 7.9033, '0.0010')\n"
     ]
    }
   ],
   "source": [
    "mols=[\n",
    "    '../33_benchmark/b3lyp/000030.log',\n",
    "    '../33_benchmark/b3lyp/000031.log'\n",
    "]\n",
    "comp_pattern='Normal termination of Gaussian 16'\n",
    "E1_pattern='Excited State   1:'\n",
    "E2_pattern='Excited State   2:'\n",
    "p1 = 4\n",
    "p2 = 8\n",
    "def extract_E12_f12_g16(filename):\n",
    "    file = open(filename, \"r\")\n",
    "    iline=0\n",
    "    for line in file:\n",
    "        if re.search(comp_pattern, line):\n",
    "            iline=iline+1\n",
    "    if (iline < 1):\n",
    "        print('ERROR: Can\\'t find <',comp_pattern,'> in ',filename)\n",
    "        file.close()\n",
    "    elif (iline==1):\n",
    "        #print('Found <',comp_pattern,'> in ',filename)\n",
    "        file.close()\n",
    "        file = open(filename, \"r\")\n",
    "        mark_e1 = 0\n",
    "        for l1 in file:\n",
    "            if re.search(E1_pattern, l1):\n",
    "                mark_e1 = l1\n",
    "                print(mark_e1)\n",
    "        file.close()\n",
    "        file = open(filename, \"r\")\n",
    "        mark_e2 = 0\n",
    "        for l2 in file:\n",
    "            if re.search(E2_pattern, l2):\n",
    "                mark_e2 = l2\n",
    "                print(mark_e2)\n",
    "        file.close()        \n",
    "    E1 = float( mark_e1.split()[p1] ) \n",
    "    f0 = str( mark_e1.split()[p2] ) \n",
    "    fx = float(re.sub(\"[^0123456789\\.]\", '', f0))\n",
    "    f1 = format(fx, '.4f')\n",
    "    E2 = float( mark_e2.split()[p1] ) \n",
    "    f0 = str( mark_e2.split()[p2] ) \n",
    "    fx = float(re.sub(\"[^0123456789\\.]\", '', f0))\n",
    "    f2 = format(fx, '.4f')\n",
    "    return E1, f1, E2, f2\n",
    "Nmol=len(mols)\n",
    "for imol in range(Nmol):\n",
    "    mol=mols[imol]\n",
    "    E1, f1, E2, f2 =extract_E12_f12_g16(mol)\n",
    "    print(mols[imol], E1, f1, E2, f2)"
   ]
  }
 ],
 "metadata": {
  "kernelspec": {
   "display_name": "Python 2",
   "language": "python",
   "name": "python2"
  },
  "language_info": {
   "codemirror_mode": {
    "name": "ipython",
    "version": 2
   },
   "file_extension": ".py",
   "mimetype": "text/x-python",
   "name": "python",
   "nbconvert_exporter": "python",
   "pygments_lexer": "ipython2",
   "version": "2.7.18"
  }
 },
 "nbformat": 4,
 "nbformat_minor": 2
}
