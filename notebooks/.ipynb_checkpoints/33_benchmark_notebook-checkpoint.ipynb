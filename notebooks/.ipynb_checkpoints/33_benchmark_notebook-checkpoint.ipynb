{
 "cells": [
  {
   "cell_type": "markdown",
   "metadata": {},
   "source": [
    "Importing relevant functionalities"
   ]
  },
  {
   "cell_type": "code",
   "execution_count": 1,
   "metadata": {},
   "outputs": [],
   "source": [
    "import re\n",
    "import numpy as np\n",
    "import scipy as sc\n",
    "import matplotlib.pyplot as plt\n",
    "import pandas as pd\n",
    "from pandas import DataFrame as df\n",
    "from sklearn.metrics import r2_score"
   ]
  },
  {
   "cell_type": "code",
   "execution_count": 2,
   "metadata": {},
   "outputs": [],
   "source": [
    "mols_g16_all = []\n",
    "for i in range(33):\n",
    "    i1 = (\"%06d\" % (i+1))\n",
    "    i1 = str(i1)\n",
    "    mols_g16_all.append(i1+'.log')\n",
    "b3lyp = [] \n",
    "blyp = []\n",
    "cam_b3lyp = []\n",
    "lc_blyp = []\n",
    "lc_whpbe = [] \n",
    "m062x = [] \n",
    "m11 = [] \n",
    "pbe1pbe = [] \n",
    "pbepbe = [] \n",
    "pw91pw91 = [] \n",
    "svwn5 = [] \n",
    "tpssh = [] \n",
    "tpsstpss = []\n",
    "wb97xd = [] \n",
    "functionals_list = [b3lyp, blyp, cam_b3lyp, lc_blyp, lc_whpbe, m062x, m11, pbe1pbe, pbepbe, pw91pw91, svwn5, tpssh,\n",
    "                   tpsstpss, wb97xd]\n",
    "def listtostring(s1):\n",
    "    str1 = \"\"\n",
    "    for ele in s1:\n",
    "        str1 += ele\n",
    "    return str1\n",
    "def namestr(obj, namespace):\n",
    "    return [name for name in namespace if namespace[name] is obj]\n",
    "for i in range(len(functionals_list)):\n",
    "    for j in range(len(mols_g16_all)):\n",
    "        s = namestr(functionals_list[i], globals())\n",
    "        t = listtostring(s)\n",
    "        functionals_list[i].append('../33_benchmark/'+t+'/'+mols_g16_all[j])"
   ]
  },
  {
   "cell_type": "code",
   "execution_count": 3,
   "metadata": {},
   "outputs": [
    {
     "name": "stdout",
     "output_type": "stream",
     "text": [
      "../33_benchmark/blyp/000012.log\n",
      "../33_benchmark/pbepbe/000012.log\n",
      "../33_benchmark/pw91pw91/000012.log\n",
      "../33_benchmark/svwn5/000012.log\n",
      "../33_benchmark/tpsstpss/000012.log\n",
      "(32, 33)\n"
     ]
    }
   ],
   "source": [
    "functionals_list_v = [blyp, pbepbe, pw91pw91, svwn5, tpsstpss]\n",
    "for i in range(len(functionals_list_v)):\n",
    "    print(functionals_list_v[i][11])\n",
    "    functionals_list_v[i].pop(11)\n",
    "print(len(blyp),len(pbe1pbe))"
   ]
  },
  {
   "cell_type": "markdown",
   "metadata": {},
   "source": [
    "Preparing csv files"
   ]
  },
  {
   "cell_type": "code",
   "execution_count": 4,
   "metadata": {},
   "outputs": [],
   "source": [
    "comp_pattern='Normal termination of Gaussian 16'\n",
    "E1_pattern='Excited State   1:'\n",
    "E2_pattern='Excited State   2:'\n",
    "p1 = 4\n",
    "p2 = 8\n",
    "def extract_E12_f12_g16(filename):\n",
    "    file = open(filename, \"r\")\n",
    "    iline=0\n",
    "    for line in file:\n",
    "        if re.search(comp_pattern, line):\n",
    "            iline=iline+1\n",
    "    if (iline < 1):\n",
    "        print('ERROR: Can\\'t find <',comp_pattern,'> in ',filename)\n",
    "        file.close()\n",
    "    elif (iline==1):\n",
    "        #print('Found <',comp_pattern,'> in ',filename)\n",
    "        file.close()\n",
    "        file = open(filename, \"r\")\n",
    "        mark_e1 = 0\n",
    "        for l1 in file:\n",
    "            if re.search(E1_pattern, l1):\n",
    "                mark_e1 = l1\n",
    "                #print(mark_e1)\n",
    "        file.close()\n",
    "        file = open(filename, \"r\")\n",
    "        mark_e2 = 0\n",
    "        for l2 in file:\n",
    "            if re.search(E2_pattern, l2):\n",
    "                mark_e2 = l2\n",
    "                #print(mark_e2)\n",
    "        file.close()        \n",
    "    E1 = float( mark_e1.split()[p1] ) \n",
    "    f0 = str( mark_e1.split()[p2] ) \n",
    "    fx = float(re.sub(\"[^0123456789\\.]\", '', f0))\n",
    "    f1 = float(\"{:.6f}\".format(fx))\n",
    "    E2 = float( mark_e2.split()[p1] ) \n",
    "    f0 = str( mark_e2.split()[p2] ) \n",
    "    fx = float(re.sub(\"[^0123456789\\.]\", '', f0))\n",
    "    f2 = float(\"{:.6f}\".format(fx))\n",
    "    return E1, f1, E2, f2\n",
    "def make_csv(filename,Nrows,Ncols,Header,Values):\n",
    "    file = open(filename, \"w\")\n",
    "    for icol in range(Ncols):\n",
    "        if icol == Ncols-1:\n",
    "            file.write(Header[icol]+'\\n')\n",
    "        else:\n",
    "            file.write(Header[icol]+',')\n",
    "    for irow in range(Nrows):\n",
    "        for icol in range(Ncols):\n",
    "            if icol == Ncols-1:\n",
    "                file.write(str(Values[icol,irow])+'\\n')\n",
    "            else:\n",
    "                file.write(str(Values[icol,irow])+',')\n",
    "    file.close()   \n",
    "    return 1"
   ]
  },
  {
   "cell_type": "code",
   "execution_count": 5,
   "metadata": {
    "scrolled": true
   },
   "outputs": [
    {
     "name": "stdout",
     "output_type": "stream",
     "text": [
      "('../33_benchmark/b3lyp/000001.log', 10.3201, 0.128, 10.3202, 0.128)\n",
      "('../33_benchmark/b3lyp/000002.log', 6.7402, 0.0781, 8.8628, 0.017)\n",
      "('../33_benchmark/b3lyp/000003.log', 7.4048, 0.0531, 9.1785, 0.0)\n",
      "('../33_benchmark/b3lyp/000004.log', 10.0095, 0.0312, 10.0095, 0.0312)\n",
      "('../33_benchmark/b3lyp/000005.log', 8.9302, 0.0, 8.9302, 0.0)\n",
      "('../33_benchmark/b3lyp/000006.log', 5.9578, 0.0063, 7.023, 0.0377)\n",
      "('../33_benchmark/b3lyp/000007.log', 6.7275, 0.0016, 7.8143, 0.0323)\n",
      "('../33_benchmark/b3lyp/000008.log', 9.084, 0.0245, 9.084, 0.0245)\n",
      "('../33_benchmark/b3lyp/000009.log', 4.8416, 0.0001, 4.8416, 0.0001)\n",
      "('../33_benchmark/b3lyp/000010.log', 7.4692, 0.0656, 7.8428, 0.3597)\n",
      "('../33_benchmark/b3lyp/000011.log', 4.0161, 0.0, 7.1441, 0.033)\n",
      "('../33_benchmark/b3lyp/000012.log', 0.0017, 0.0, 6.7524, 0.0)\n",
      "('../33_benchmark/b3lyp/000013.log', 6.8333, 0.0, 7.0208, 0.0)\n",
      "('../33_benchmark/b3lyp/000014.log', 8.5237, 0.0029, 8.8699, 0.0444)\n",
      "('../33_benchmark/b3lyp/000015.log', 6.0144, 0.0107, 6.9473, 0.0062)\n",
      "('../33_benchmark/b3lyp/000016.log', 6.7843, 0.0111, 7.8156, 0.0176)\n",
      "('../33_benchmark/b3lyp/000017.log', 8.6846, 0.0027, 8.9839, 0.013)\n",
      "('../33_benchmark/b3lyp/000018.log', 9.1356, 0.0288, 9.9148, 0.0)\n",
      "('../33_benchmark/b3lyp/000019.log', 5.6155, 0.0043, 6.5784, 0.0045)\n",
      "('../33_benchmark/b3lyp/000020.log', 6.7226, 0.0293, 7.5805, 0.0)\n",
      "('../33_benchmark/b3lyp/000021.log', 6.9197, 0.0126, 7.5115, 0.4001)\n",
      "('../33_benchmark/b3lyp/000022.log', 4.3414, 0.0, 6.9099, 0.02)\n",
      "('../33_benchmark/b3lyp/000023.log', 7.9043, 0.0, 8.1767, 0.0019)\n",
      "('../33_benchmark/b3lyp/000024.log', 6.1324, 0.0061, 6.2412, 0.0015)\n",
      "('../33_benchmark/b3lyp/000025.log', 5.6379, 0.0007, 6.8009, 0.0057)\n",
      "('../33_benchmark/b3lyp/000026.log', 5.8385, 0.0008, 7.5844, 0.0317)\n",
      "('../33_benchmark/b3lyp/000027.log', 7.2304, 0.0404, 7.6918, 0.3159)\n",
      "('../33_benchmark/b3lyp/000028.log', 5.7722, 0.0122, 5.9701, 0.1171)\n",
      "('../33_benchmark/b3lyp/000029.log', 5.8155, 0.0008, 6.7886, 0.1589)\n",
      "('../33_benchmark/b3lyp/000030.log', 6.7536, 0.0, 6.9327, 0.0011)\n",
      "('../33_benchmark/b3lyp/000031.log', 7.9031, 0.001, 7.9033, 0.001)\n",
      "('../33_benchmark/b3lyp/000032.log', 6.4804, 0.0016, 7.2612, 0.0308)\n",
      "('../33_benchmark/b3lyp/000033.log', 7.3861, 0.0295, 7.8525, 0.0097)\n"
     ]
    }
   ],
   "source": [
    "for imol in range(len(mols_g16_all)):\n",
    "    mol=b3lyp[imol]\n",
    "    E1, f1, E2, f2 =extract_E12_f12_g16(mol)\n",
    "    print(b3lyp[imol], E1, f1, E2, f2)\n",
    "#tmp=make_csv('../csv_files/b3lyp_33.csv',len(mols_g16_all),E1,f1,E2,f2)\n",
    "# for imol in range(len(mols_g16)):\n",
    "#     mol=blyp[imol]\n",
    "#     E1, f1, E2, f2 =extract_E12_f12_g16(mol)\n",
    "#     print(blyp[imol], E1, f1, E2, f2)\n",
    "#tmp=make_csv('../csv_files/blyp_33.csv',len(mols_g16_all),E1,f1,E2,f2)"
   ]
  }
 ],
 "metadata": {
  "kernelspec": {
   "display_name": "Python 2",
   "language": "python",
   "name": "python2"
  },
  "language_info": {
   "codemirror_mode": {
    "name": "ipython",
    "version": 2
   },
   "file_extension": ".py",
   "mimetype": "text/x-python",
   "name": "python",
   "nbconvert_exporter": "python",
   "pygments_lexer": "ipython2",
   "version": "2.7.18"
  }
 },
 "nbformat": 4,
 "nbformat_minor": 2
}
