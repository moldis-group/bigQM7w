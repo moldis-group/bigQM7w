{
 "cells": [
  {
   "cell_type": "markdown",
   "metadata": {},
   "source": [
    "Importing relevant functionalities"
   ]
  },
  {
   "cell_type": "code",
   "execution_count": 5,
   "metadata": {},
   "outputs": [],
   "source": [
    "import numpy as np\n",
    "import matplotlib\n",
    "import matplotlib.pyplot as plt\n",
    "import matplotlib.image as image\n",
    "import pandas as pd\n",
    "import seaborn as sns\n",
    "import qml\n",
    "from scipy.stats import kde\n",
    "from pandas import DataFrame as df\n",
    "from matplotlib.ticker import FuncFormatter\n",
    "from mpl_toolkits.axes_grid1.inset_locator import (inset_axes, InsetPosition,\n",
    "                                                  mark_inset)\n",
    "from qml.representations import *"
   ]
  },
  {
   "cell_type": "code",
   "execution_count": 6,
   "metadata": {},
   "outputs": [
    {
     "name": "stdout",
     "output_type": "stream",
     "text": [
      "[73.51669472  8.3593106   0.5         8.35237809  0.66066557  0.5\n",
      "  0.          0.          0.          0.          0.          0.\n",
      "  0.          0.          0.        ]\n"
     ]
    }
   ],
   "source": [
    "coordinates = np.array([[1.464, 0.707, 1.056],\n",
    "                        [0.878, 1.218, 0.498],\n",
    "                        [2.319, 1.126, 0.952]])\n",
    "\n",
    "# Oxygen, Hydrogen, Hydrogen\n",
    "nuclear_charges = np.array([8, 1, 1])\n",
    "\n",
    "# Generate a molecular coulomb matrices sorted by row norm.\n",
    "cm1 = generate_coulomb_matrix(nuclear_charges, coordinates,\n",
    "                                size=5, sorting=\"row-norm\")\n",
    "print(cm1)"
   ]
  },
  {
   "cell_type": "markdown",
   "metadata": {},
   "source": [
    "Preparing plots"
   ]
  }
 ],
 "metadata": {
  "kernelspec": {
   "display_name": "Python 3",
   "language": "python",
   "name": "python3"
  },
  "language_info": {
   "codemirror_mode": {
    "name": "ipython",
    "version": 3
   },
   "file_extension": ".py",
   "mimetype": "text/x-python",
   "name": "python",
   "nbconvert_exporter": "python",
   "pygments_lexer": "ipython3",
   "version": "3.6.11"
  }
 },
 "nbformat": 4,
 "nbformat_minor": 5
}
