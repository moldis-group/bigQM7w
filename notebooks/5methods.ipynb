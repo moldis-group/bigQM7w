{
 "cells": [
  {
   "cell_type": "markdown",
   "metadata": {},
   "source": [
    "Importing relevant functionalities"
   ]
  },
  {
   "cell_type": "code",
   "execution_count": 3,
   "metadata": {},
   "outputs": [],
   "source": [
    "import re\n",
    "import numpy as np\n",
    "import scipy as sc\n",
    "import matplotlib.pyplot as plt\n",
    "import pandas as pd\n",
    "from pandas import DataFrame as df\n",
    "from sklearn.metrics import r2_score"
   ]
  },
  {
   "cell_type": "markdown",
   "metadata": {},
   "source": [
    "Preparing plots"
   ]
  },
  {
   "cell_type": "code",
   "execution_count": 10,
   "metadata": {},
   "outputs": [
    {
     "data": {
      "image/png": "[encoded data removed]",
      "text/plain": [
       "<Figure size 432x288 with 1 Axes>"
      ]
     },
     "metadata": {
      "needs_background": "light"
     },
     "output_type": "display_data"
    }
   ],
   "source": [
    "SVPD = pd.read_csv('../csv_files/Nele_Nstates_sumfk_SVPD.csv',header=0)\n",
    "SVP = pd.read_csv('../csv_files/Nele_Nstates_sumfk_SVP.csv',header=0)\n",
    "#321G = pd.read_csv('../csv_files/Nele_Nstates_sumfk_321G.csv',header=0)\n",
    "ZINDO = pd.read_csv('../csv_files/Nele_Nstates_sumfk_ZINDO.csv',header=0)\n",
    "TZVP = pd.read_csv('../csv_files/Nele_Nstates_sumfk_TZVP.csv',header=0)\n",
    "\n",
    "plt.grid(True, linewidth=0.5, linestyle='-', axis = 'y',zorder=0)\n",
    "# Make the plot\n",
    "plt.scatter(ZINDO.N_states[:],ZINDO.sum_f_k[:])\n",
    "plt.scatter(SVPD.N_states[:],SVPD.sum_f_k[:])\n",
    "plt.scatter(SVP.N_states[:],SVP.sum_f_k[:])\n",
    "plt.scatter(TZVP.N_states[:],TZVP.sum_f_k[:])\n",
    "#plt.legend()\n",
    "\n",
    "# Adding Xticks\n",
    "plt.xlabel('States', fontsize = 15)\n",
    "plt.ylabel('$\\sum_k f_k$',fontsize = 15) #fontweight ='bold'\n",
    " \n",
    "#plt.legend()\n",
    "plt.show()\n"
   ]
  },
  {
   "cell_type": "code",
   "execution_count": 7,
   "metadata": {},
   "outputs": [],
   "source": [
    "# for i in range(len(functionals_list)):\n",
    "#     if (len(functionals_list[i])) == 33:\n",
    "#         s = namestr(functionals_list[i], globals())\n",
    "#         t = listtostring(s)\n",
    "#         x = t+'_pd'\n",
    "#         x = pd.read_csv('../csv_files/'+t+'.csv',header=0)\n",
    "#         diff_E1 = abs(x.E1[:] - ref.E1[:])\n",
    "#         diff_E2 = abs(x.E2[:] - ref.E2[:])\n",
    "#         diff_f1 = abs(x.f1[:] - ref.f1[:])\n",
    "#         diff_f2 = abs(x.f2[:] - ref.f2[:])\n",
    "        \n",
    "#     elif (len(functionals_list[i])) == 32:\n",
    "#         s = namestr(functionals_list[i], globals())\n",
    "#         t = listtostring(s)\n",
    "#         x = t+'_pd'\n",
    "#         x = pd.read_csv('../csv_files/'+t+'.csv',header=0)\n",
    "#         diff_E1 = abs(x.E1[:] - ref_v.E1[:])\n",
    "#         diff_E2 = abs(x.E2[:] - ref_v.E2[:])\n",
    "#         diff_f1 = abs(x.f1[:] - ref_v.f1[:])\n",
    "#         diff_f2 = abs(x.f2[:] - ref_v.f2[:])\n",
    "        \n",
    "#     #print(f_list[i],np.mean(diff_E1),np.mean(diff_f1),np.mean(diff_E2),np.mean(diff_f2))\n",
    "#     mae_E1[i] = np.mean(diff_E1)\n",
    "#     mae_E2[i] = np.mean(diff_E2)\n",
    "#     mae_f1[i] = np.mean(diff_f1)\n",
    "#     mae_f2[i] = np.mean(diff_f2)\n",
    "    \n",
    "# fig = plt.figure(figsize = (10, 5))\n",
    "# new_meth = ['svp_at_svp','svpd_at_svp','svpd_at_tzvp','tzvp_at_tzvp','tzvpd_at_tzvp',]\n",
    "# mae_E1 = np.zeros(([len(new_meth)]))\n",
    "# mae_E2 = np.zeros(([len(new_meth)]))\n",
    "# mae_f1 = np.zeros(([len(new_meth)]))\n",
    "# mae_f2 = np.zeros(([len(new_meth)]))\n",
    "# for i in range(len(new_meth)):\n",
    "#     x = pd.read_csv('../csv_files/wb97xd_'+new_meth[i]+'.csv',header=0)\n",
    "#     diff_E1 = abs(x.E1[:] - ref.E1[:])\n",
    "#     diff_E2 = abs(x.E2[:] - ref.E2[:])\n",
    "#     diff_f1 = abs(x.f1[:] - ref.f1[:])\n",
    "#     diff_f1 = abs(x.f2[:] - ref.f2[:])\n",
    "#     mae_E1[i] = np.mean(diff_E1)\n",
    "#     mae_E2[i] = np.mean(diff_E2)\n",
    "#     mae_f1[i] = np.mean(diff_f1)\n",
    "#     mae_f2[i] = np.mean(diff_f2)\n",
    "#     #print(new_meth[i],mae_E1[i],mae_f1[i],mae_E2[i],mae_f1[i],)\n",
    "\n",
    "# barWidth = 0.20\n",
    "# br1 = np.arange(len(new_meth[:]))\n",
    "# br2 = [x + barWidth for x in br1]\n",
    "# br3 = [x + barWidth for x in br2]\n",
    "# br4 = [x + barWidth for x in br3]\n",
    "\n",
    "# Make the plot\n",
    "# plt.bar(br1, mae_E1, color ='r', width = barWidth,\n",
    "#         edgecolor ='grey', label ='E1')\n",
    "# plt.bar(br2, mae_f1, color ='g', width = barWidth,\n",
    "#         edgecolor ='grey', label ='f1')\n",
    "# plt.bar(br3, mae_E2, color ='b', width = barWidth,\n",
    "#         edgecolor ='grey', label ='E2')\n",
    "# plt.bar(br4, mae_f2, color ='y', width = barWidth,\n",
    "#         edgecolor ='grey', label ='f2')\n",
    " \n",
    "# # Adding Xticks\n",
    "# plt.xlabel('Methods', fontweight ='bold', fontsize = 15)\n",
    "# plt.ylabel('MAE (in eV)', fontweight ='bold', fontsize = 15)\n",
    "# plt.xticks([r + barWidth for r in range(len(new_meth))],new_meth)\n",
    " \n",
    "# plt.legend()\n",
    "# plt.show()\n",
    "# diff_E1=abs(TZVP.E1[:] + SVPD.E1[:] - SVP.E1[:]  - ref.E1[:])\n",
    "# MAE_E1=np.mean(diff_E1)\n",
    "# diff_E2=abs(TZVP.E2[:] + SVPD.E2[:] - SVP.E2[:]  - ref.E2[:])\n",
    "# MAE_E2=np.mean(diff_E2)\n",
    "# diff_f1=abs(TZVP.f1[:] + SVPD.f1[:] - SVP.f1[:]  - ref.f1[:])\n",
    "# MAE_f1=np.mean(diff_f1)\n",
    "# diff_f2=abs(TZVP.f2[:] + SVPD.f2[:] - SVP.f2[:]  - ref.f2[:])\n",
    "# MAE_f2=np.mean(diff_f2)\n",
    "# print(MAE_E1, MAE_f1, MAE_E2, MAE_f2)"
   ]
  }
 ],
 "metadata": {
  "kernelspec": {
   "display_name": "Python 3",
   "language": "python",
   "name": "python3"
  },
  "language_info": {
   "codemirror_mode": {
    "name": "ipython",
    "version": 3
   },
   "file_extension": ".py",
   "mimetype": "text/x-python",
   "name": "python",
   "nbconvert_exporter": "python",
   "pygments_lexer": "ipython3",
   "version": "3.6.11"
  }
 },
 "nbformat": 4,
 "nbformat_minor": 2
}
