{
 "cells": [
  {
   "cell_type": "markdown",
   "metadata": {},
   "source": [
    "Importing relevant functionalities"
   ]
  },
  {
   "cell_type": "code",
   "execution_count": 1,
   "metadata": {},
   "outputs": [],
   "source": [
    "import numpy as np\n",
    "import matplotlib.pyplot as plt\n",
    "import pandas as pd\n",
    "from scipy.stats import kde\n",
    "from pandas import DataFrame as df\n",
    "from matplotlib.ticker import FuncFormatter\n",
    "from mpl_toolkits.axes_grid1.inset_locator import (inset_axes, InsetPosition,\n",
    "                                                  mark_inset)"
   ]
  },
  {
   "cell_type": "code",
   "execution_count": 2,
   "metadata": {},
   "outputs": [],
   "source": [
    "def reformat_large_tick_values(tick_val, pos):\n",
    "    \"\"\"\n",
    "    Turns large tick values (in the billions, millions and thousands) such as 4500 into 4.5K and also appropriately turns 4000 into 4K (no zero after the decimal).\n",
    "    \"\"\"\n",
    "    if tick_val >= 1000000000:\n",
    "        val = round(tick_val/1000000000, 1)\n",
    "        new_tick_format = '{:}B'.format(val)\n",
    "    elif tick_val >= 1000000:\n",
    "        val = round(tick_val/1000000, 1)\n",
    "        new_tick_format = '{:}M'.format(val)\n",
    "    elif tick_val >= 1000:\n",
    "        val = round(tick_val/1000, 1)\n",
    "        new_tick_format = '{:}k'.format(val)\n",
    "    elif tick_val < 1000:\n",
    "        new_tick_format = round(tick_val, 1)\n",
    "    else:\n",
    "        new_tick_format = tick_val\n",
    "\n",
    "    # make new_tick_format into a string value\n",
    "    new_tick_format = str(new_tick_format)\n",
    "    \n",
    "    # code below will keep 4.5M as is but change values such as 4.0M to 4M since that zero after the decimal isn't needed\n",
    "    index_of_decimal = new_tick_format.find(\".\")\n",
    "    \n",
    "    if index_of_decimal != -1:\n",
    "        value_after_decimal = new_tick_format[index_of_decimal+1]\n",
    "        if value_after_decimal == \"0\":\n",
    "            # remove the 0 after the decimal point since it's not needed\n",
    "            new_tick_format = new_tick_format[0:index_of_decimal] + new_tick_format[index_of_decimal+2:]\n",
    "     \n",
    "    return new_tick_format"
   ]
  },
  {
   "cell_type": "markdown",
   "metadata": {},
   "source": [
    "Preparing plots"
   ]
  },
  {
   "cell_type": "code",
   "execution_count": 21,
   "metadata": {},
   "outputs": [
    {
     "data": {
      "image/png": "[encoded data removed]",
      "text/plain": [
       "<Figure size 432x288 with 2 Axes>"
      ]
     },
     "metadata": {
      "needs_background": "light"
     },
     "output_type": "display_data"
    }
   ],
   "source": [
    "SVPD = pd.read_csv('../csv_files/Nele_Nstates_sumfk_SVPD.csv',header=0)\n",
    "SVP = pd.read_csv('../csv_files/Nele_Nstates_sumfk_SVP.csv',header=0)\n",
    "M321G = pd.read_csv('../csv_files/Nele_Nstates_sumfk_321G.csv',header=0)\n",
    "ZINDO = pd.read_csv('../csv_files/Nele_Nstates_sumfk_ZINDO.csv',header=0)\n",
    "TZVP = pd.read_csv('../csv_files/Nele_Nstates_sumfk_TZVP.csv',header=0)\n",
    "\n",
    "ZINDO_dev = abs(ZINDO.sum_f_k[:] - ZINDO.N_ele[:])\n",
    "ZINDO_dens = kde.gaussian_kde(ZINDO_dev)\n",
    "M321G_dev = abs(M321G.sum_f_k[:] - M321G.N_ele[:])\n",
    "M321G_dens = kde.gaussian_kde(M321G_dev)\n",
    "SVPD_dev = abs(SVPD.sum_f_k[:] - SVPD.N_ele[:])\n",
    "SVPD_dens = kde.gaussian_kde(SVPD_dev)\n",
    "SVP_dev = abs(SVP.sum_f_k[:] - SVP.N_ele[:])\n",
    "SVP_dens = kde.gaussian_kde(SVP_dev)\n",
    "TZVP_dev = abs(TZVP.sum_f_k[:] - TZVP.N_ele[:])\n",
    "TZVP_dens = kde.gaussian_kde(TZVP_dev)\n",
    "\n",
    "x = np.linspace(0,40,500)\n",
    "\n",
    "from matplotlib.ticker import (MultipleLocator, AutoMinorLocator)\n",
    "\n",
    "fig, ax = plt.subplots()\n",
    "ax.set_box_aspect(1)\n",
    "ax.tick_params(direction=\"in\",which='both')\n",
    "ax.yaxis.set_major_locator(MultipleLocator(10))\n",
    "ax.yaxis.set_major_formatter('{x:.0f}')\n",
    "ax.yaxis.set_minor_locator(MultipleLocator(5))\n",
    "ax.yaxis.set_major_formatter('{x:.0f}')\n",
    "\n",
    "ax.xaxis.set_major_locator(MultipleLocator(1000))\n",
    "ax.xaxis.set_major_formatter(FuncFormatter(reformat_large_tick_values));\n",
    "ax.grid(True, which='both',linewidth=0.5, linestyle='-', axis = 'y',zorder=0)\n",
    "\n",
    "\n",
    "ax.scatter(SVP.N_states[:],SVP.sum_f_k[:],label='def2-SVP',s=40, facecolors='none', edgecolors='cornflowerblue',zorder=3,linewidths=1.0)\n",
    "ax.scatter(TZVP.N_states[:],TZVP.sum_f_k[:],label='def2-TZVP',s=40, facecolors='none', edgecolors='lightcoral',zorder=3,linewidths=1.0)\n",
    "ax.scatter(SVPD.N_states[:],SVPD.sum_f_k[:],label='def2-SVPD',s=40, facecolors='none', edgecolors='seagreen',zorder=3,linewidths=1.0)\n",
    "ax.scatter(M321G.N_states[:],M321G.sum_f_k[:],label='3-21G',s=40, facecolors='none', edgecolors='red',zorder=3,linewidths=1.0)\n",
    "ax.scatter(ZINDO.N_states[:],ZINDO.sum_f_k[:],label='ZINDO',s=40, facecolors='none', edgecolors='blue',zorder=3,linewidths=1.0)\n",
    "\n",
    "ax.set_xlabel('States', fontsize = 10)\n",
    "ax.set_ylabel('$\\\\sum_k f_k$',fontsize = 10) \n",
    "ax.set_ylim(0,65)\n",
    "ax.set_xlim(0,7000)\n",
    "\n",
    "ax2 = plt.axes([0,0,1,1])\n",
    "ip = InsetPosition(ax, [0.58,0.1,0.4,0.4])\n",
    "ax2.set_axes_locator(ip)\n",
    "\n",
    "plt.yticks([])\n",
    "ax2.plot(x, ZINDO_dens(x), label='ZINDO',color='blue',zorder=3,linewidth=1.0)\n",
    "ax2.plot(x, M321G_dens(x), label='3-21G',color='red',zorder=3,linewidth=1.0)\n",
    "ax2.plot(x, SVP_dens(x), label='def2-SVP',color='cornflowerblue',zorder=3,linewidth=1.0)\n",
    "ax2.plot(x, SVPD_dens(x), label='def2-SVPD',color='seagreen',zorder=3,linewidth=1.0)\n",
    "ax2.plot(x, TZVP_dens(x), label='def2-TZVP',color='lightcoral',zorder=3,linewidth=1.0)\n",
    "rs=ax2.spines[\"right\"]\n",
    "to=ax2.spines[\"top\"]\n",
    "rs.set_visible(False)\n",
    "to.set_visible(False)\n",
    "ax2.set_xticks(np.arange(min(x),max(x)+1,10.0))\n",
    "ax.legend(frameon=False, loc='upper center',ncol=2)\n",
    "plt.savefig(\"sumfk_states.pdf\",bbox_inches='tight')\n",
    "plt.show()"
   ]
  },
  {
   "cell_type": "code",
   "execution_count": 4,
   "metadata": {},
   "outputs": [],
   "source": [
    "# ZINDO_dev = abs(ZINDO.sum_f_k[:] - ZINDO.N_ele[:])\n",
    "# ZINDO_dens = kde.gaussian_kde(ZINDO_dev)\n",
    "\n",
    "# M321G_dev = abs(M321G.sum_f_k[:] - M321G.N_ele[:])\n",
    "# M321G_dens = kde.gaussian_kde(M321G_dev)\n",
    "\n",
    "# SVPD_dev = abs(SVPD.sum_f_k[:] - SVPD.N_ele[:])\n",
    "# SVPD_dens = kde.gaussian_kde(SVPD_dev)\n",
    "\n",
    "# SVP_dev = abs(SVP.sum_f_k[:] - SVP.N_ele[:])\n",
    "# SVP_dens = kde.gaussian_kde(SVP_dev)\n",
    "\n",
    "# TZVP_dev = abs(TZVP.sum_f_k[:] - TZVP.N_ele[:])\n",
    "# TZVP_dens = kde.gaussian_kde(TZVP_dev)\n",
    "\n",
    "# x = np.linspace(0,50,500)\n",
    "# y=SVPD_dens(x)\n",
    "# plt.yticks([])\n",
    "# plt.plot(x, ZINDO_dens(x), label='ZINDO',color='blue',zorder=3,linewidth=1.0)\n",
    "# plt.plot(x, M321G_dens(x), label='3-21G',color='red',zorder=3,linewidth=1.0)\n",
    "# plt.plot(x, SVP_dens(x), label='def2-SVP',color='cornflowerblue',zorder=3,linewidth=1.0)\n",
    "# plt.plot(x, SVPD_dens(x), label='def2-SVPD',color='seagreen',zorder=3,linewidth=1.0)\n",
    "# plt.plot(x, TZVP_dens(x), label='def2-TZVP',color='lightcoral',zorder=3,linewidth=1.0)\n",
    "# plt.legend()\n",
    "# plt.savefig(\"sumfk_dev_nele.pdf\",bbox_inches='tight')\n",
    "# plt.show()"
   ]
  }
 ],
 "metadata": {
  "kernelspec": {
   "display_name": "Python 3",
   "language": "python",
   "name": "python3"
  },
  "language_info": {
   "codemirror_mode": {
    "name": "ipython",
    "version": 3
   },
   "file_extension": ".py",
   "mimetype": "text/x-python",
   "name": "python",
   "nbconvert_exporter": "python",
   "pygments_lexer": "ipython3",
   "version": "3.6.11"
  }
 },
 "nbformat": 4,
 "nbformat_minor": 5
}
