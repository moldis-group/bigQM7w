{
 "cells": [
  {
   "cell_type": "markdown",
   "metadata": {},
   "source": [
    "Importing relevant functionalities"
   ]
  },
  {
   "cell_type": "code",
   "execution_count": 1,
   "metadata": {},
   "outputs": [],
   "source": [
    "import re\n",
    "import numpy as np\n",
    "import scipy as sc\n",
    "import matplotlib.pyplot as plt\n",
    "import pandas as pd\n",
    "from pandas import DataFrame as df\n",
    "from sklearn.metrics import r2_score"
   ]
  },
  {
   "cell_type": "code",
   "execution_count": 2,
   "metadata": {},
   "outputs": [],
   "source": [
    "mols_g16_all = []\n",
    "for i in range(33):\n",
    "    i1 = (\"%06d\" % (i+1))\n",
    "    i1 = str(i1)\n",
    "    mols_g16_all.append(i1+'.log')\n",
    "b3lyp = [] \n",
    "blyp = []\n",
    "cam_b3lyp = []\n",
    "lc_blyp = []\n",
    "lc_whpbe = [] \n",
    "m062x = [] \n",
    "m11 = [] \n",
    "pbe1pbe = [] \n",
    "pbepbe = [] \n",
    "pw91pw91 = [] \n",
    "svwn5 = [] \n",
    "tpssh = [] \n",
    "tpsstpss = []\n",
    "wb97xd = [] \n",
    "functionals_list = [b3lyp, blyp, cam_b3lyp, lc_blyp, lc_whpbe, m062x, m11, pbe1pbe, pbepbe, pw91pw91, svwn5, tpssh,\n",
    "                   tpsstpss, wb97xd]\n",
    "def listtostring(s1):\n",
    "    str1 = \"\"\n",
    "    for ele in s1:\n",
    "        str1 += ele\n",
    "    return str1\n",
    "def namestr(obj, namespace):\n",
    "    return [name for name in namespace if namespace[name] is obj]\n",
    "for i in range(len(functionals_list)):\n",
    "    for j in range(len(mols_g16_all)):\n",
    "        s = namestr(functionals_list[i], globals())\n",
    "        t = listtostring(s)\n",
    "        functionals_list[i].append('../33_benchmark/'+t+'/'+mols_g16_all[j])\n",
    "steomccsd = []\n",
    "dlpnosteomccsd = []\n",
    "composite_list = [steomccsd, dlpnosteomccsd]\n",
    "mols_orca_all = []\n",
    "for i in range(33):\n",
    "    i1 = (\"%06d\" % (i+1))\n",
    "    i1 = str(i1)\n",
    "    mols_orca_all.append(i1+'.out')\n",
    "for i in range(len(composite_list)):\n",
    "    for j in range(len(mols_orca_all)):\n",
    "        s = namestr(composite_list[i], globals())\n",
    "        t = listtostring(s)\n",
    "        composite_list[i].append('../33_benchmark/'+t+'/'+mols_orca_all[j])\n"
   ]
  },
  {
   "cell_type": "code",
   "execution_count": 3,
   "metadata": {},
   "outputs": [
    {
     "name": "stdout",
     "output_type": "stream",
     "text": [
      "../33_benchmark/blyp/000012.log\n",
      "../33_benchmark/pbepbe/000012.log\n",
      "../33_benchmark/pw91pw91/000012.log\n",
      "../33_benchmark/svwn5/000012.log\n",
      "../33_benchmark/tpsstpss/000012.log\n",
      "(32, 33)\n"
     ]
    }
   ],
   "source": [
    "functionals_list_v = [blyp, pbepbe, pw91pw91, svwn5, tpsstpss]\n",
    "for i in range(len(functionals_list_v)):\n",
    "    functionals_list_v[i].pop(11)"
   ]
  },
  {
   "cell_type": "markdown",
   "metadata": {},
   "source": [
    "Defining requied functions"
   ]
  },
  {
   "cell_type": "code",
   "execution_count": 4,
   "metadata": {},
   "outputs": [],
   "source": [
    "comp_pattern='Normal termination of Gaussian 16'\n",
    "E1_pattern='Excited State   1:'\n",
    "E2_pattern='Excited State   2:'\n",
    "p1 = 4\n",
    "p2 = 8\n",
    "def extract_E12_f12_g16(filename):\n",
    "    file = open(filename, \"r\")\n",
    "    iline=0\n",
    "    for line in file:\n",
    "        if re.search(comp_pattern, line):\n",
    "            iline=iline+1\n",
    "    if (iline < 1):\n",
    "        print('ERROR: Can\\'t find <',comp_pattern,'> in ',filename)\n",
    "        file.close()\n",
    "    elif (iline==1):\n",
    "        file.close()\n",
    "        file = open(filename, \"r\")\n",
    "        mark_e1 = 0\n",
    "        for l1 in file:\n",
    "            if re.search(E1_pattern, l1):\n",
    "                mark_e1 = l1\n",
    "        file.close()\n",
    "        file = open(filename, \"r\")\n",
    "        mark_e2 = 0\n",
    "        for l2 in file:\n",
    "            if re.search(E2_pattern, l2):\n",
    "                mark_e2 = l2\n",
    "        file.close()        \n",
    "    E1 = float( mark_e1.split()[p1] ) \n",
    "    f0 = str( mark_e1.split()[p2] ) \n",
    "    fx = float(re.sub(\"[^0123456789\\.]\", '', f0))\n",
    "    f1 = float(\"{:.6f}\".format(fx))\n",
    "    E2 = float( mark_e2.split()[p1] ) \n",
    "    f0 = str( mark_e2.split()[p2] ) \n",
    "    fx = float(re.sub(\"[^0123456789\\.]\", '', f0))\n",
    "    f2 = float(\"{:.6f}\".format(fx))\n",
    "    return E1, f1, E2, f2\n",
    "def make_csv(filename,Nrows,Ncols,Header,Values):\n",
    "    file = open(filename, \"w\")\n",
    "    for icol in range(Ncols):\n",
    "        if icol == Ncols-1:\n",
    "            file.write(Header[icol]+'\\n')\n",
    "        else:\n",
    "            file.write(Header[icol]+',')\n",
    "    for irow in range(Nrows):\n",
    "        for icol in range(Ncols):\n",
    "            if icol == Ncols-1:\n",
    "                file.write(str(Values[icol][irow])+'\\n')\n",
    "            else:\n",
    "                file.write(str(Values[icol][irow])+',')\n",
    "    file.close()   \n",
    "    return 1"
   ]
  },
  {
   "cell_type": "markdown",
   "metadata": {},
   "source": [
    "Preparing csv files"
   ]
  },
  {
   "cell_type": "code",
   "execution_count": 5,
   "metadata": {
    "scrolled": true
   },
   "outputs": [],
   "source": [
    "H1 = ['title', 'E1', 'f1', 'E2', 'f2']\n",
    "for i in range(len(functionals_list)):\n",
    "    V = np.zeros([5,len(functionals_list[i])])\n",
    "    for imol in range(len(functionals_list[i])):\n",
    "        mol = functionals_list[i][imol]\n",
    "        E1, f1, E2, f2 =extract_E12_f12_g16(mol)\n",
    "        V[0,imol] = imol + 1\n",
    "        V[1,imol] = E1\n",
    "        V[2,imol] = f1\n",
    "        V[3,imol] = E2\n",
    "        V[4,imol] = f2\n",
    "        s = namestr(functionals_list[i], globals())\n",
    "        t = listtostring(s)\n",
    "    tmp = make_csv('../csv_files/'+t+'.csv',len(functionals_list[i]),len(H1),H1,V)"
   ]
  },
  {
   "cell_type": "code",
   "execution_count": 15,
   "metadata": {},
   "outputs": [
    {
     "ename": "NameError",
     "evalue": "name 'blyp_pd' is not defined",
     "output_type": "error",
     "traceback": [
      "\u001b[0;31m---------------------------------------------------------------------------\u001b[0m",
      "\u001b[0;31mNameError\u001b[0m                                 Traceback (most recent call last)",
      "\u001b[0;32m<ipython-input-15-4fd176676835>\u001b[0m in \u001b[0;36m<module>\u001b[0;34m()\u001b[0m\n\u001b[1;32m      5\u001b[0m     \u001b[0mx\u001b[0m \u001b[0;34m=\u001b[0m \u001b[0mt\u001b[0m\u001b[0;34m+\u001b[0m\u001b[0;34m'_pd'\u001b[0m\u001b[0;34m\u001b[0m\u001b[0m\n\u001b[1;32m      6\u001b[0m     \u001b[0mx\u001b[0m \u001b[0;34m=\u001b[0m \u001b[0mpd\u001b[0m\u001b[0;34m.\u001b[0m\u001b[0mread_csv\u001b[0m\u001b[0;34m(\u001b[0m\u001b[0;34m'../csv_files/'\u001b[0m\u001b[0;34m+\u001b[0m\u001b[0mt\u001b[0m\u001b[0;34m+\u001b[0m\u001b[0;34m'.csv'\u001b[0m\u001b[0;34m,\u001b[0m\u001b[0mheader\u001b[0m\u001b[0;34m=\u001b[0m\u001b[0;36m0\u001b[0m\u001b[0;34m)\u001b[0m\u001b[0;34m\u001b[0m\u001b[0m\n\u001b[0;32m----> 7\u001b[0;31m \u001b[0;32mprint\u001b[0m\u001b[0;34m(\u001b[0m\u001b[0mblyp_pd\u001b[0m\u001b[0;34m)\u001b[0m\u001b[0;34m\u001b[0m\u001b[0m\n\u001b[0m",
      "\u001b[0;31mNameError\u001b[0m: name 'blyp_pd' is not defined"
     ]
    }
   ],
   "source": [
    "p1_orca = 4\n",
    "p2_orca = 4\n",
    "comp_pattern_orca='ORCA TERMINATED NORMALLY'\n",
    "Pattern_orca_1='UNRELAXED EXCITED STATE DIPOLE MOMENTS'\n",
    "Pattern_orca_2='ABSORPTION SPECTRUM VIA TRANSITION ELECTRIC DIPOLE MOMENTS'\n",
    "def extract_E12_f12_orca(filename):\n",
    "    file = open(filename, \"r\")\n",
    "    iline=0\n",
    "    for line in file:\n",
    "        if re.search(comp_pattern_orca, line):\n",
    "            iline=iline+1\n",
    "    if (iline < 1):\n",
    "        print('ERROR: Can\\'t find <',comp_pattern_orca,'> in ',filename)\n",
    "        file.close()\n",
    "    elif (iline==1):\n",
    "        file.close()\n",
    "        file = open(filename, \"r\")\n",
    "        mark_e1 = 0\n",
    "        mark_e2 = 0\n",
    "        for l1 in file:\n",
    "            if re.search(Pattern_orca_1, l1):\n",
    "                mark_e1 = l1 + 5\n",
    "                mark_e2 = l1 + 6\n",
    "        file.close()\n",
    "        file = open(filename, \"r\")\n",
    "        mark_e3 = 0\n",
    "        mark_e4 = 0\n",
    "        for l1 in file:\n",
    "            if re.search(Pattern_orca_2, l1):\n",
    "                mark_e3 = l1 + 6\n",
    "                mark_e4 = l1 + 7\n",
    "        file.close()\n",
    "        \n",
    "    E1 = float( mark_e1.split()[p1_orca] ) \n",
    "    f0 = str( mark_e3.split()[p2_orca] ) \n",
    "    f1 = float(\"{:.6f}\".format(f0))\n",
    "    E2 = float( mark_e2.split()[p1_orca] ) \n",
    "    f0 = str( mark_e3.split()[p2_orca] ) \n",
    "    f2 = float(\"{:.6f}\".format(f0))\n",
    "    return E1, f1, E2, f2\n",
    "H1 = ['title', 'E1', 'f1', 'E2', 'f2']\n",
    "for i in range(len(functionals_list)):\n",
    "    V = np.zeros([5,len(functionals_list[i])])\n",
    "    for imol in range(len(functionals_list[i])):\n",
    "        mol = functionals_list[i][imol]\n",
    "        E1, f1, E2, f2 =extract_E12_f12_g16(mol)\n",
    "        V[0,imol] = imol + 1\n",
    "        V[1,imol] = E1\n",
    "        V[2,imol] = f1\n",
    "        V[3,imol] = E2\n",
    "        V[4,imol] = f2\n",
    "        s = namestr(functionals_list[i], globals())\n",
    "        t = listtostring(s)\n",
    "    tmp = make_csv('../csv_files/'+t+'.csv',len(functionals_list[i]),len(H1),H1,V)\n",
    "# for i in range(len(functionals_list)):\n",
    "#     s = namestr(functionals_list[i], globals())\n",
    "#     t = listtostring(s)\n",
    "#     x = t+'_pd'\n",
    "#     x = pd.read_csv('../csv_files/'+t+'.csv',header=0)"
   ]
  }
 ],
 "metadata": {
  "kernelspec": {
   "display_name": "Python 2",
   "language": "python",
   "name": "python2"
  },
  "language_info": {
   "codemirror_mode": {
    "name": "ipython",
    "version": 2
   },
   "file_extension": ".py",
   "mimetype": "text/x-python",
   "name": "python",
   "nbconvert_exporter": "python",
   "pygments_lexer": "ipython2",
   "version": "2.7.18"
  }
 },
 "nbformat": 4,
 "nbformat_minor": 2
}
