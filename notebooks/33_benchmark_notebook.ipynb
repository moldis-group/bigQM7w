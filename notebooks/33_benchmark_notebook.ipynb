{
 "cells": [
  {
   "cell_type": "markdown",
   "metadata": {},
   "source": [
    "Importing relevant functionalities"
   ]
  },
  {
   "cell_type": "code",
   "execution_count": null,
   "metadata": {},
   "outputs": [],
   "source": [
    "import re\n",
    "import numpy as np\n",
    "import scipy as sc\n",
    "import matplotlib.pyplot as plt\n",
    "import pandas as pd\n",
    "from pandas import DataFrame as df\n",
    "from sklearn.metrics import r2_score"
   ]
  },
  {
   "cell_type": "code",
   "execution_count": null,
   "metadata": {},
   "outputs": [],
   "source": [
    "mols_g16_all = []\n",
    "for i in range(33):\n",
    "    i1 = (\"%06d\" % (i+1))\n",
    "    i1 = str(i1)\n",
    "    mols_g16_all.append(i1+'.log')\n",
    "b3lyp = [] \n",
    "blyp = []\n",
    "cam_b3lyp = []\n",
    "lc_blyp = []\n",
    "lc_whpbe = [] \n",
    "m062x = [] \n",
    "m11 = [] \n",
    "pbe1pbe = [] \n",
    "pbepbe = [] \n",
    "pw91pw91 = [] \n",
    "svwn5 = [] \n",
    "tpssh = [] \n",
    "tpsstpss = []\n",
    "wb97xd = [] \n",
    "functionals_list = [b3lyp, blyp, cam_b3lyp, lc_blyp, lc_whpbe, m062x, m11, pbe1pbe, pbepbe, pw91pw91, svwn5, tpssh,\n",
    "                   tpsstpss, wb97xd]\n",
    "def listtostring(s1):\n",
    "    str1 = \"\"\n",
    "    for ele in s1:\n",
    "        str1 += ele\n",
    "    return str1\n",
    "def namestr(obj, namespace):\n",
    "    return [name for name in namespace if namespace[name] is obj]\n",
    "for i in range(len(functionals_list)):\n",
    "    for j in range(len(mols_g16_all)):\n",
    "        s = namestr(functionals_list[i], globals())\n",
    "        t = listtostring(s)\n",
    "        functionals_list[i].append('../33_benchmark/'+t+'/'+mols_g16_all[j])"
   ]
  },
  {
   "cell_type": "code",
   "execution_count": null,
   "metadata": {},
   "outputs": [],
   "source": [
    "functionals_list_v = [blyp, pbepbe, pw91pw91, svwn5, tpsstpss]\n",
    "for i in range(len(functionals_list_v)):\n",
    "    print(functionals_list_v[i][11])\n",
    "    functionals_list_v[i].pop(11)\n",
    "print(len(blyp),len(pbe1pbe))"
   ]
  },
  {
   "cell_type": "markdown",
   "metadata": {},
   "source": [
    "Preparing csv files"
   ]
  },
  {
   "cell_type": "code",
   "execution_count": null,
   "metadata": {},
   "outputs": [],
   "source": [
    "comp_pattern='Normal termination of Gaussian 16'\n",
    "E1_pattern='Excited State   1:'\n",
    "E2_pattern='Excited State   2:'\n",
    "p1 = 4\n",
    "p2 = 8\n",
    "def extract_E12_f12_g16(filename):\n",
    "    file = open(filename, \"r\")\n",
    "    iline=0\n",
    "    for line in file:\n",
    "        if re.search(comp_pattern, line):\n",
    "            iline=iline+1\n",
    "    if (iline < 1):\n",
    "        print('ERROR: Can\\'t find <',comp_pattern,'> in ',filename)\n",
    "        file.close()\n",
    "    elif (iline==1):\n",
    "        #print('Found <',comp_pattern,'> in ',filename)\n",
    "        file.close()\n",
    "        file = open(filename, \"r\")\n",
    "        mark_e1 = 0\n",
    "        for l1 in file:\n",
    "            if re.search(E1_pattern, l1):\n",
    "                mark_e1 = l1\n",
    "                #print(mark_e1)\n",
    "        file.close()\n",
    "        file = open(filename, \"r\")\n",
    "        mark_e2 = 0\n",
    "        for l2 in file:\n",
    "            if re.search(E2_pattern, l2):\n",
    "                mark_e2 = l2\n",
    "                #print(mark_e2)\n",
    "        file.close()        \n",
    "    E1 = float( mark_e1.split()[p1] ) \n",
    "    f0 = str( mark_e1.split()[p2] ) \n",
    "    fx = float(re.sub(\"[^0123456789\\.]\", '', f0))\n",
    "    f1 = float(\"{:.6f}\".format(fx))\n",
    "    E2 = float( mark_e2.split()[p1] ) \n",
    "    f0 = str( mark_e2.split()[p2] ) \n",
    "    fx = float(re.sub(\"[^0123456789\\.]\", '', f0))\n",
    "    f2 = float(\"{:.6f}\".format(fx))\n",
    "    return E1, f1, E2, f2\n",
    "def make_csv(filename,Nrows,Ncols,Header,Values):\n",
    "    file = open(filename, \"w\")\n",
    "    for icol in range(Ncols):\n",
    "        if icol == Ncols-1:\n",
    "            file.write(Header[icol]+'\\n')\n",
    "        else:\n",
    "            file.write(Header[icol]+',')\n",
    "    for irow in range(Nrows):\n",
    "        for icol in range(Ncols):\n",
    "            if icol == Ncols-1:\n",
    "                file.write(str(Values[icol][irow])+'\\n')\n",
    "            else:\n",
    "                file.write(str(Values[icol][irow])+',')\n",
    "    file.close()   \n",
    "    return 1"
   ]
  },
  {
   "cell_type": "code",
   "execution_count": null,
   "metadata": {
    "scrolled": true
   },
   "outputs": [],
   "source": [
    "H1 = ['title', 'E1', 'f1', 'E2', 'f2']\n",
    "for i in range(len(functionals_list)):\n",
    "    V = np.zeros([5,len(functionals_list[i])])\n",
    "    for imol in range(len(functionals_list[i])):\n",
    "        mol = functionals_list[i][imol]\n",
    "        E1, f1, E2, f2 =extract_E12_f12_g16(mol)\n",
    "        V[0,imol] = imol + 1\n",
    "        V[1,imol] = E1\n",
    "        V[2,imol] = f1\n",
    "        V[3,imol] = E2\n",
    "        V[4,imol] = f2\n",
    "        s = namestr(functionals_list[i], globals())\n",
    "        t = listtostring(s)\n",
    "    tmp = make_csv('../csv_files/'+t+'.csv',len(functionals_list[i]),len(H1),H1,V)"
   ]
  }
 ],
 "metadata": {
  "kernelspec": {
   "display_name": "Python 2",
   "language": "python",
   "name": "python2"
  },
  "language_info": {
   "codemirror_mode": {
    "name": "ipython",
    "version": 2
   },
   "file_extension": ".py",
   "mimetype": "text/x-python",
   "name": "python",
   "nbconvert_exporter": "python",
   "pygments_lexer": "ipython2",
   "version": "2.7.18"
  }
 },
 "nbformat": 4,
 "nbformat_minor": 2
}
