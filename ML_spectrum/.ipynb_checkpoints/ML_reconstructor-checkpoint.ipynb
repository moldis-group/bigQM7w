{
 "cells": [
  {
   "cell_type": "code",
   "execution_count": 3,
   "metadata": {},
   "outputs": [],
   "source": [
    "import os\n",
    "import qml\n",
    "import numpy as np"
   ]
  },
  {
   "cell_type": "code",
   "execution_count": 4,
   "metadata": {},
   "outputs": [],
   "source": [
    "Dir=r\"geoms_bigqQM7w_UFF_shuffled/\"\n",
    "Ext=r\".xyz\"\n",
    "\n",
    "files=[os.path.join(Dir,_) for _ in os.listdir(Dir) if _.endswith(Ext)]"
   ]
  },
  {
   "cell_type": "code",
   "execution_count": 5,
   "metadata": {},
   "outputs": [],
   "source": [
    "N_train = 10 #Allowed values are 10, 100, 300, 500, 1000, 3000, 5000"
   ]
  },
  {
   "cell_type": "code",
   "execution_count": 6,
   "metadata": {},
   "outputs": [
    {
     "name": "stdout",
     "output_type": "stream",
     "text": [
      "(10, 23, 5, 23)\n"
     ]
    }
   ],
   "source": [
    "X_train=[]\n",
    "ifile=0\n",
    "for xyz_file in files:\n",
    "    if ifile < N_train:\n",
    "        mol=qml.Compound(xyz=xyz_file)\n",
    "        mol.generate_fchl_representation()\n",
    "        desc=mol.representation\n",
    "        X_train.append(desc)\n",
    "    ifile=ifile+1\n",
    "\n",
    "X_train=np.array(X_train)\n",
    "print(X_train.shape)"
   ]
  },
  {
   "cell_type": "code",
   "execution_count": 7,
   "metadata": {},
   "outputs": [],
   "source": [
    "N_bin=128"
   ]
  },
  {
   "cell_type": "code",
   "execution_count": 9,
   "metadata": {},
   "outputs": [],
   "source": [
    "datafile=open('trainingset_data/coeffs_00010.txt','r')\n",
    "MLcoeff=np.zeros([N_train,N_bin])\n",
    "iline=0\n",
    "for line in datafile:\n",
    "    string=line.split()\n",
    "    MLcoeff[iline,:]=string\n",
    "    iline=iline+1"
   ]
  },
  {
   "cell_type": "code",
   "execution_count": 10,
   "metadata": {},
   "outputs": [],
   "source": [
    "datafile=open('trainingset_data/train_spec_00010.txt','r')\n",
    "Spec_train=np.zeros([N_train,N_bin])\n",
    "iline=0\n",
    "for line in datafile:\n",
    "    string=line.split()\n",
    "    Spec_train[iline,:]=string\n",
    "    iline=iline+1"
   ]
  },
  {
   "cell_type": "code",
   "execution_count": 11,
   "metadata": {},
   "outputs": [],
   "source": [
    "sigmas=[5]"
   ]
  },
  {
   "cell_type": "code",
   "execution_count": 12,
   "metadata": {},
   "outputs": [],
   "source": [
    "K=np.zeros(N_train)\n",
    "\n",
    "for itrain in range(N_train):\n",
    "    Xt=X_train[itrain]\n",
    "    Xq=X_train[0]\n",
    "    Yq=np.zeros([1,23,5,23],dtype=float)\n",
    "    Yt=np.zeros([1,23,5,23],dtype=float)\n",
    "    Yq[0]=Xq\n",
    "    Yt[0]=Xt\n",
    "    tmp=qml.fchl.get_global_kernels(Yq,Yt,sigmas,cut_distance=20)\n",
    "    K[itrain]=tmp[0,0,0]"
   ]
  },
  {
   "cell_type": "code",
   "execution_count": null,
   "metadata": {},
   "outputs": [],
   "source": [
    "K"
   ]
  },
  {
   "cell_type": "code",
   "execution_count": null,
   "metadata": {},
   "outputs": [],
   "source": [
    "spec_pred=np.zeros(N_bin)\n",
    "for i_bin in range(N_bin):\n",
    "    spec_pred[i_bin]=np.dot(K,MLcoeff[:,i_bin])"
   ]
  },
  {
   "cell_type": "code",
   "execution_count": null,
   "metadata": {},
   "outputs": [],
   "source": [
    "print(spec_pred)"
   ]
  },
  {
   "cell_type": "code",
   "execution_count": null,
   "metadata": {},
   "outputs": [],
   "source": [
    "print(Spec_train[0,:])"
   ]
  },
  {
   "cell_type": "code",
   "execution_count": null,
   "metadata": {},
   "outputs": [],
   "source": []
  }
 ],
 "metadata": {
  "kernelspec": {
   "display_name": "Python 3",
   "language": "python",
   "name": "python3"
  },
  "language_info": {
   "codemirror_mode": {
    "name": "ipython",
    "version": 3
   },
   "file_extension": ".py",
   "mimetype": "text/x-python",
   "name": "python",
   "nbconvert_exporter": "python",
   "pygments_lexer": "ipython3",
   "version": "3.6.11"
  }
 },
 "nbformat": 4,
 "nbformat_minor": 2
}
